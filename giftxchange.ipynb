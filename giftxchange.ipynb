{
 "cells": [
  {
   "cell_type": "code",
   "execution_count": 6,
   "metadata": {
    "collapsed": true,
    "pycharm": {
     "is_executing": false
    }
   },
   "outputs": [],
   "source": [
    "peeps = [\n",
    "    'Eddie', 'Beverly', \n",
    "    'Ed', 'Vicki', \n",
    "    'Dale', 'Adrianna', \n",
    "    'Dan', 'Deb', \n",
    "    'Dave', 'Michelle', \n",
    "    'Anne']\n",
    "\n",
    "history = [\n",
    "    {\n",
    "        'Year': '2018',\n",
    "        'Draws': {\n",
    "            'Ed': 'Dale',\n",
    "            'Anne': 'Dave',\n",
    "        }\n",
    "    },\n",
    "    {\n",
    "        'Year': '2019',\n",
    "        'Draws': {\n",
    "        }\n",
    "    }\n",
    "]\n",
    "\n",
    "\n"
   ]
  },
  {
   "cell_type": "code",
   "execution_count": 5,
   "outputs": [],
   "source": [
    "import random\n",
    "\n",
    "draws = {}\n",
    "drawn = set()\n",
    "\n",
    "def get_history(person, history):\n",
    "    \"\"\" Get a list of people this person has drawn in previous years \"\"\"\n",
    "    drawn = set()\n",
    "    for year in history:\n",
    "        drawee = year.get('Draws').get(person)\n",
    "        if drawee:\n",
    "            drawn.add(drawee)\n",
    "            \n",
    "    return drawn\n",
    "\n",
    "for peep in peeps:\n",
    "    available = [p for p in peeps \n",
    "        if p != peep \n",
    "        and p not in drawn\n",
    "        and p not in get_history(peep, history)]\n",
    "    \n",
    "    draw = random.choice(available)\n",
    "    draws[peep] = draw\n",
    "    drawn.add(draw)\n",
    "    \n"
   ],
   "metadata": {
    "collapsed": false,
    "pycharm": {
     "name": "#%%\n",
     "is_executing": false
    }
   }
  },
  {
   "cell_type": "code",
   "execution_count": null,
   "outputs": [],
   "source": [
    "\n"
   ],
   "metadata": {
    "collapsed": false,
    "pycharm": {
     "name": "#%%\n"
    }
   }
  }
 ],
 "metadata": {
  "kernelspec": {
   "display_name": "Python 3",
   "language": "python",
   "name": "python3"
  },
  "language_info": {
   "codemirror_mode": {
    "name": "ipython",
    "version": 2
   },
   "file_extension": ".py",
   "mimetype": "text/x-python",
   "name": "python",
   "nbconvert_exporter": "python",
   "pygments_lexer": "ipython2",
   "version": "2.7.6"
  },
  "pycharm": {
   "stem_cell": {
    "cell_type": "raw",
    "source": [],
    "metadata": {
     "collapsed": false
    }
   }
  }
 },
 "nbformat": 4,
 "nbformat_minor": 0
}